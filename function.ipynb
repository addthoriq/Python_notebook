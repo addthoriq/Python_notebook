{
 "cells": [
  {
   "cell_type": "code",
   "execution_count": null,
   "metadata": {},
   "outputs": [],
   "source": [
    "def namaOrang(nama1, nama2):\n",
    "    print(\"===================\")\n",
    "    print(nama1) # Saya ingin ini munculnya Thoriq\n",
    "    print(\"===================\")\n",
    "    print(nama2) # Saya ingin ini munculnya Justin\n",
    "    print(\"===================\")\n",
    "\n",
    "# inputan = input(\"Masukkan Nama anda: \")\n",
    "# input2 = input(\"Masukkan Nama 2: \")\n",
    "\n",
    "namaOrang(\"Thoriq\", \"Justin\")"
   ]
  },
  {
   "cell_type": "code",
   "execution_count": null,
   "metadata": {},
   "outputs": [],
   "source": [
    "def penjumlahan(angka1 = 0, angka2 = 0):\n",
    "    hasil = angka1 + angka2\n",
    "    return hasil\n",
    "\n",
    "x = 5\n",
    "y = 2\n",
    "result = penjumlahan()\n",
    "print(\"Angka 1 = \", x, \" + Angka 2 = \", y, \" Hasilnya adalah = \", result)"
   ]
  },
  {
   "cell_type": "code",
   "execution_count": 26,
   "metadata": {},
   "outputs": [
    {
     "name": "stdout",
     "output_type": "stream",
     "text": [
      "Total Belanjaan anda adalah:  75000\n"
     ]
    }
   ],
   "source": [
    "# Jika total Belanjaan >= 100.000 maka dapat diskon 50%\n",
    "# Jika total belanjaan kisaran 50.000-99.999 maka dapat diskon 25%\n",
    "# Jika total belanjaan dibawah 50.000 gak dapat diskon\n",
    "\n",
    "totalBelanjaan = int(input(\"Masukkan Total Belanjaan anda: \"))\n",
    "\n",
    "def diskon(totalBelanja, diskonnya):\n",
    "    return (totalBelanja * diskonnya) / 100\n",
    "\n",
    "def getDiskon(tb):\n",
    "    hasil = 0\n",
    "    if (tb >= 100000):\n",
    "        hasil = diskon(tb, 50)\n",
    "    elif (tb >= 50000 and tb < 100000):\n",
    "        hasil = diskon(tb, 25)\n",
    "    else:\n",
    "        hasil = tb\n",
    "    return int(hasil)\n",
    "\n",
    "print(\"Total Belanjaan anda adalah: \", getDiskon(totalBelanjaan))\n",
    "\n"
   ]
  }
 ],
 "metadata": {
  "interpreter": {
   "hash": "5b3ded1ccb95c1d9bd405e7b823d9e85424cde40fbb5985eb47e999ef50e15b4"
  },
  "kernelspec": {
   "display_name": "Python 3.8.10 64-bit",
   "language": "python",
   "name": "python3"
  },
  "language_info": {
   "codemirror_mode": {
    "name": "ipython",
    "version": 3
   },
   "file_extension": ".py",
   "mimetype": "text/x-python",
   "name": "python",
   "nbconvert_exporter": "python",
   "pygments_lexer": "ipython3",
   "version": "3.8.10"
  },
  "orig_nbformat": 4
 },
 "nbformat": 4,
 "nbformat_minor": 2
}
