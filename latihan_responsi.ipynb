{
 "cells": [
  {
   "cell_type": "markdown",
   "metadata": {},
   "source": [
    "Ini Cara Pengerjaan Sederhana:"
   ]
  },
  {
   "cell_type": "code",
   "execution_count": null,
   "metadata": {},
   "outputs": [],
   "source": [
    "# definisikan function untuk menghitung predikat permatkul\n",
    "def setNilaiMK(nilaiMK):\n",
    "    predikat = \"\"\n",
    "    if (nilaiMK >= 81 and nilaiMK <= 100):\n",
    "        predikat = \"A - Sangat Baik\"\n",
    "    elif (nilaiMK >= 61 and nilaiMK <= 80):\n",
    "        predikat = \"B - Baik\"\n",
    "    elif (nilaiMK >= 41 and nilaiMK <= 60):\n",
    "        predikat = \"C - Cukup\"\n",
    "    elif (nilaiMK >= 21 and nilaiMK <= 40):\n",
    "        predikat = \"D - Kurang\"\n",
    "    else:\n",
    "        predikat = \"E - Gagal\"\n",
    "    return predikat\n",
    "\n",
    "# definisikan function rumus menghitung IP\n",
    "def setRumusIP(totalNilaiMK):\n",
    "    jumMK = 6\n",
    "    return (totalNilaiMK / jumMK) / 25\n",
    "\n",
    "\n",
    "# definisikan function untuk menghitung IP\n",
    "# n1 .. n6 adalah nilai permatkul\n",
    "def setIP(n1, n2, n3, n4, n5, n6):\n",
    "    totalNilai = n1 + n2 + n3 + n4 + n5 + n6\n",
    "    hasilIP = setRumusIP(totalNilai)\n",
    "    predikat = \"\"\n",
    "    if (hasilIP >= 3.50 and hasilIP <= 4.00):\n",
    "        predikat = \"A - Sangat Baik\"\n",
    "    elif (hasilIP >= 3.00 and hasilIP <= 3.49):\n",
    "        predikat = \"B - Baik\"\n",
    "    elif (hasilIP >= 2.00 and hasilIP <= 2.99):\n",
    "        predikat = \"C - Cukup\"\n",
    "    elif (hasilIP >= 1.00 and hasilIP <= 1.99):\n",
    "        predikat = \"D - Kurang\"\n",
    "    else:\n",
    "        predikat = \"E - Gagal\"\n",
    "    return predikat\n",
    "\n",
    "# Definisikan function data KHS\n",
    "def dataKHS(nama, angkatan, jurusan):\n",
    "    # definisikan nilai Mata Kuliah\n",
    "    nilaiAPBO = 80\n",
    "    nilaiPemWeb = 90\n",
    "    nilaiKSK = 99\n",
    "    nilaiTBO = 60\n",
    "    nilaiFisika = 50\n",
    "    nilaiPag = 80\n",
    "    print(\"=================================================================\")\n",
    "    print(\"Data KHS Mahasiswa IST AKPRIND Yogyakarta\")\n",
    "    print(\"=================================================================\")\n",
    "    print(\"Nama : \", nama)\n",
    "    print(\"Angkatan : \", angkatan)\n",
    "    print(\"Jurusan : \", jurusan)\n",
    "    print(\"=================================================================\")\n",
    "    print(\"Mata Kuliah APBO: \", setNilaiMK(nilaiAPBO))\n",
    "    print(\"Mata Kuliah Pemrograman Web: \", setNilaiMK(nilaiPemWeb))\n",
    "    print(\"Mata Kuliah KSK: \", setNilaiMK(nilaiKSK))\n",
    "    print(\"Mata Kuliah TBO: \", setNilaiMK(nilaiTBO))\n",
    "    print(\"Mata Kuliah Fisika: \", setNilaiMK(nilaiFisika))\n",
    "    print(\"Mata Kuliah PAG: \", setNilaiMK(nilaiPag))\n",
    "    print(\"=================================================================\")\n",
    "    print(\"IP : \", setIP(nilaiAPBO, nilaiPemWeb, nilaiKSK, nilaiTBO, nilaiFisika, nilaiPag))\n",
    "    print(\"=================================================================\")\n",
    "\n",
    "dataKHS(\"Thoriq\", 2020, \"Informatika\")"
   ]
  }
 ],
 "metadata": {
  "interpreter": {
   "hash": "5b3ded1ccb95c1d9bd405e7b823d9e85424cde40fbb5985eb47e999ef50e15b4"
  },
  "kernelspec": {
   "display_name": "Python 3.8.10 64-bit",
   "language": "python",
   "name": "python3"
  },
  "language_info": {
   "codemirror_mode": {
    "name": "ipython",
    "version": 3
   },
   "file_extension": ".py",
   "mimetype": "text/x-python",
   "name": "python",
   "nbconvert_exporter": "python",
   "pygments_lexer": "ipython3",
   "version": "3.8.10"
  },
  "orig_nbformat": 4
 },
 "nbformat": 4,
 "nbformat_minor": 2
}
